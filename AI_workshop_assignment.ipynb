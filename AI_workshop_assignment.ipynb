{
  "nbformat": 4,
  "nbformat_minor": 0,
  "metadata": {
    "colab": {
      "name": "AI workshop assignment",
      "version": "0.3.2",
      "provenance": [],
      "collapsed_sections": []
    },
    "kernelspec": {
      "name": "python3",
      "display_name": "Python 3"
    }
  },
  "cells": [
    {
      "metadata": {
        "id": "YsgDIMqDY4qT",
        "colab_type": "text"
      },
      "cell_type": "markdown",
      "source": [
        "Question no. 1 : Create a program that asks the user to enter their name and their age. Print out a message addressed to them that tells them the year that they will turn 100 years old.\n",
        "\n"
      ]
    },
    {
      "metadata": {
        "id": "_Z6QjpVWUGBa",
        "colab_type": "code",
        "colab": {
          "base_uri": "https://localhost:8080/",
          "height": 68
        },
        "outputId": "2fb5c3dd-6a75-4927-bb75-da823b1fdd0b"
      },
      "cell_type": "code",
      "source": [
        "name = input(\"Enter your name: \")\n",
        "age= input(\"Enter age: \")\n",
        "future_age=100-int(age)\n",
        "future_year=2018+future_age\n",
        "print(\"Hello \"+ name + \". Your current age is \" + str(age) +\". You will turn 100 at the year \" + str(future_year))"
      ],
      "execution_count": 0,
      "outputs": [
        {
          "output_type": "stream",
          "text": [
            "Enter your name: Neha Pokharel\n",
            "Enter age: 20\n",
            "Hello Neha Pokharel. Your current age is 20. You will turn 100 at the year 2098\n"
          ],
          "name": "stdout"
        }
      ]
    },
    {
      "metadata": {
        "id": "X0DvJhReVoFi",
        "colab_type": "code",
        "colab": {
          "base_uri": "https://localhost:8080/",
          "height": 119
        },
        "outputId": "2d98fb6a-17cb-4bc6-d0a1-8b9eb7f1132c"
      },
      "cell_type": "code",
      "source": [
        "number= int(input(\"Enter number: \"))\n",
        "x=\"Hello \"+ name + \". Your current age is \" + str(age) +\". You will turn 100 at the year \" + str(future_year)\n",
        "for y in range(number):\n",
        "  print (x)\n"
      ],
      "execution_count": 0,
      "outputs": [
        {
          "output_type": "stream",
          "text": [
            "Enter number: 5\n",
            "Hello Neha Pokharel. Your current age is 20. You will turn 100 at the year 2098\n",
            "Hello Neha Pokharel. Your current age is 20. You will turn 100 at the year 2098\n",
            "Hello Neha Pokharel. Your current age is 20. You will turn 100 at the year 2098\n",
            "Hello Neha Pokharel. Your current age is 20. You will turn 100 at the year 2098\n",
            "Hello Neha Pokharel. Your current age is 20. You will turn 100 at the year 2098\n"
          ],
          "name": "stdout"
        }
      ]
    },
    {
      "metadata": {
        "id": "7F4SQ_oPYrh4",
        "colab_type": "text"
      },
      "cell_type": "markdown",
      "source": [
        "Question no. 2 : Ask the user for a number. Depending on whether the number is even or odd, print out an appropriate message to the user.\n",
        "\n"
      ]
    },
    {
      "metadata": {
        "id": "GW4HoHIbI6tM",
        "colab_type": "code",
        "colab": {
          "base_uri": "https://localhost:8080/",
          "height": 106
        },
        "outputId": "814d4181-f5a0-457f-8666-8ac7497b64db"
      },
      "cell_type": "code",
      "source": [
        "number = int(input(\"Enter number: \"))\n",
        "if (number % 2==0):\n",
        "  print(\"Even number\")\n",
        "  if (number %4 == 0):\n",
        "    print(\"Divisible by four\")\n",
        "else:\n",
        "  print(\"Odd number\")\n",
        "num = int(input(\"Enter number: \"))\n",
        "check = int(input(\"Enter number: \"))\n",
        "result=num/check\n",
        "if(result%2==0):\n",
        "  print(\"check divides evenly into num\")\n",
        "else:\n",
        "  print(\"try again\")"
      ],
      "execution_count": 1,
      "outputs": [
        {
          "output_type": "stream",
          "text": [
            "Enter number: 34\n",
            "Even number\n",
            "Enter number: 12\n",
            "Enter number: 10\n",
            "try again\n"
          ],
          "name": "stdout"
        }
      ]
    },
    {
      "metadata": {
        "id": "p-WFvR2N2CP8",
        "colab_type": "text"
      },
      "cell_type": "markdown",
      "source": [
        "Question no. 3 : Take a list, say for example this one:\n",
        "\n",
        "  a = [1, 1, 2, 3, 5, 8, 13, 21, 34, 55, 89]\n",
        "and write a program that prints out all the elements of the list that are less than 5.\n"
      ]
    },
    {
      "metadata": {
        "id": "u5kmb8882E5P",
        "colab_type": "code",
        "colab": {
          "base_uri": "https://localhost:8080/",
          "height": 53
        },
        "outputId": "157f47c7-d6b5-4c63-fdf6-e528e52e849c"
      },
      "cell_type": "code",
      "source": [
        "a = [1, 1, 2, 3, 5, 8, 13, 21, 34, 55, 89]\n",
        "num=int(input(\"Enter number\"))\n",
        "newlist=[]\n",
        "for i in a:\n",
        "  if(i<nQuestion 4um):\n",
        "    newlist.append(i)\n",
        "print (newlist)\n",
        "    "
      ],
      "execution_count": 24,
      "outputs": [
        {
          "output_type": "stream",
          "text": [
            "Enter number5\n",
            "[1, 1, 2, 3]\n"
          ],
          "name": "stdout"
        }
      ]
    },
    {
      "metadata": {
        "id": "_eCxx9zvjTID",
        "colab_type": "text"
      },
      "cell_type": "markdown",
      "source": [
        "Question 4 : Create a program that asks the user for a number and then prints out a list of all the divisors of that number."
      ]
    },
    {
      "metadata": {
        "id": "RU8PuR5x4yLm",
        "colab_type": "code",
        "colab": {
          "base_uri": "https://localhost:8080/",
          "height": 53
        },
        "outputId": "c1675739-19b9-472c-eb6f-d8d743214172"
      },
      "cell_type": "code",
      "source": [
        "new_list=[]\n",
        "x = int(input(\"Enter number: \"))\n",
        "for y in range(1,x):\n",
        "  if(x % y == 0):\n",
        "    new_list.append(y)\n",
        "print(new_list)\n",
        "    \n",
        "  \n"
      ],
      "execution_count": 1,
      "outputs": [
        {
          "output_type": "stream",
          "text": [
            "Enter number: 80\n",
            "[1, 2, 4, 5, 8, 10, 16, 20, 40]\n"
          ],
          "name": "stdout"
        }
      ]
    },
    {
      "metadata": {
        "id": "14P4YOB_ivVE",
        "colab_type": "text"
      },
      "cell_type": "markdown",
      "source": [
        "Question 5 :  write a program that returns a list that contains only the elements that are common between the lists (without duplicates). Make sure your program works on two lists of different sizes."
      ]
    },
    {
      "metadata": {
        "id": "EV0T4EwZmHsr",
        "colab_type": "code",
        "colab": {
          "base_uri": "https://localhost:8080/",
          "height": 34
        },
        "outputId": "d6369ff5-6f2d-4248-8a0a-e7e951fdc04c"
      },
      "cell_type": "code",
      "source": [
        "a = [1, 1, 2, 3, 5, 8, 13, 21, 34, 55, 89]\n",
        "b = [1, 2, 3, 4, 5, 6, 7, 8, 9, 10, 11, 12, 13]\n",
        "c=[]\n",
        "for i in a:\n",
        "  if i in b:\n",
        "    if i not in c:\n",
        "      c.append(i)\n",
        "print(c)\n",
        "    \n",
        "    "
      ],
      "execution_count": 12,
      "outputs": [
        {
          "output_type": "stream",
          "text": [
            "[1, 2, 3, 5, 8, 13]\n"
          ],
          "name": "stdout"
        }
      ]
    },
    {
      "metadata": {
        "id": "7EIa1b7abM5v",
        "colab_type": "text"
      },
      "cell_type": "markdown",
      "source": [
        "Question 6 : Ask the user for a string and print out whether this string is a palindrome or not."
      ]
    },
    {
      "metadata": {
        "id": "4wugFWHnbOZW",
        "colab_type": "code",
        "colab": {
          "base_uri": "https://localhost:8080/",
          "height": 57
        },
        "outputId": "9725fe99-b1d6-4d22-e6ac-ab1f17910928"
      },
      "cell_type": "code",
      "source": [
        "p = input(\"Enter the word: \")\n",
        "q = len(p)\n",
        "r = q-1\n",
        "s = 0\n",
        "while s < r:\n",
        "  if p[s] == p[r]:\n",
        "    s = s+1\n",
        "    r = r-1\n",
        "    print(\"String is a palindrome\")\n",
        "    break\n",
        "  else:\n",
        "    print(\"String is not a palindrome\")\n",
        "    break\n",
        "   "
      ],
      "execution_count": 24,
      "outputs": [
        {
          "output_type": "stream",
          "text": [
            "Enter the word: neha\n",
            "String is not a palindrome\n"
          ],
          "name": "stdout"
        }
      ]
    },
    {
      "metadata": {
        "id": "MsXjdBpbGEG-",
        "colab_type": "text"
      },
      "cell_type": "markdown",
      "source": [
        "Question 7 : Let’s say I give you a list saved in a variable: a = [1, 4, 9, 16, 25, 36, 49, 64, 81, 100]. Write one line of Python that takes this list a and makes a new list that has only the even elements of this list in it."
      ]
    },
    {
      "metadata": {
        "id": "KreZZvfxGITh",
        "colab_type": "code",
        "colab": {
          "base_uri": "https://localhost:8080/",
          "height": 35
        },
        "outputId": "11eccdb9-c552-4638-e3c5-79fd7d53a01e"
      },
      "cell_type": "code",
      "source": [
        "numbers = [1,2,3,4,5,6,7,8,9,10]\n",
        "squares =[]\n",
        "for num in numbers:\n",
        "  squares.append(num*num)\n",
        "print(squares)"
      ],
      "execution_count": 41,
      "outputs": [
        {
          "output_type": "stream",
          "text": [
            "[1, 4, 9, 16, 25, 36, 49, 64, 81, 100]\n"
          ],
          "name": "stdout"
        }
      ]
    },
    {
      "metadata": {
        "id": "4fdDNDqEJiB_",
        "colab_type": "text"
      },
      "cell_type": "markdown",
      "source": [
        "Question 8 : Make a two-player Rock-Paper-Scissors game. "
      ]
    },
    {
      "metadata": {
        "id": "N6d8Q6X7JjnQ",
        "colab_type": "code",
        "colab": {
          "base_uri": "https://localhost:8080/",
          "height": 187
        },
        "outputId": "137cd7b1-2c1f-4e64-c598-579b4d65bdd4"
      },
      "cell_type": "code",
      "source": [
        "option = [\"rock\",\"paper\",\"scissor\"]\n",
        "print(option)\n",
        "\n",
        "\n",
        "def rps():\n",
        "  player1 = input(\"Enter your choice: \")\n",
        "  player2 = input(\"Enter your choice: \")\n",
        "  if(player1 == player2):\n",
        "    print(\"It's tie\")\n",
        "  elif (player1 == \"rock\") and (player2 == \"scissor\"):\n",
        "      print(\"Congratualtions player1!\")\n",
        "  elif (player2 == \"rock\") and (player1 == \"scissor\"):\n",
        "      print(\"Congratualtions player2!\")\n",
        "  elif(player1 == \"scissor\") and (player2 == \"paper\"):\n",
        "      print(\"Congratualtions player1\")\n",
        "  elif(player2 == \"scissor\") and (player1 == \"paper\"):\n",
        "      print(\"Congratualtions player1\")\n",
        "  elif (player1 == \"paper\") and (player2 == \"rock\"):\n",
        "      print(\"Congratualtions player2!\")\n",
        "  elif(player1 == \"rock\") and (player2 == \"paper\"):\n",
        "      print(\"Congratualtions player1\")\n",
        "  else:\n",
        "    print(\"try again\")\n",
        "  choice=str(input(\"Play Again?yes or no??\"))\n",
        "  if(choice==\"yes\"):\n",
        "    rps()\n",
        "  else:\n",
        "    print(\"Thanks for playing\")\n",
        "    exit()\n",
        "\n",
        "rps()"
      ],
      "execution_count": 1,
      "outputs": [
        {
          "output_type": "stream",
          "text": [
            "['rock', 'paper', 'scissor']\n",
            "Enter your choice: paper\n",
            "Enter your choice: scissor\n",
            "Congratualtions player1\n",
            "Play Again?yes or no??yes\n",
            "Enter your choice: rock\n",
            "Enter your choice: paper\n",
            "Congratualtions player1\n",
            "Play Again?yes or no??no\n",
            "Thanks for playing\n"
          ],
          "name": "stdout"
        }
      ]
    },
    {
      "metadata": {
        "id": "IRjs1gvqdNPJ",
        "colab_type": "text"
      },
      "cell_type": "markdown",
      "source": [
        "Question 9 : Generate a random number between 1 and 9 (including 1 and 9). Ask the user to guess the number, then tell them whether they guessed too low, too high, or exactly right."
      ]
    },
    {
      "metadata": {
        "id": "B5e92GVVdOou",
        "colab_type": "code",
        "colab": {
          "base_uri": "https://localhost:8080/",
          "height": 266
        },
        "outputId": "98a444a9-c0ea-47f7-8811-141e1f57a14d"
      },
      "cell_type": "code",
      "source": [
        "import random\n",
        "m = (random.randint(1,10))\n",
        "\n",
        "def comparison():\n",
        "  n = int(input(\"Enter number\"))\n",
        "  if(m == n):\n",
        "    print(\"exactly right\")\n",
        "    exit()\n",
        "  elif(m > n):\n",
        "    print(\"too low\")\n",
        "    comparison()\n",
        "  else:\n",
        "    print(\"too high\")\n",
        "    comparison()\n",
        "\n",
        "comparison()"
      ],
      "execution_count": 6,
      "outputs": [
        {
          "output_type": "stream",
          "text": [
            "Enter number4\n",
            "too low\n",
            "Enter number2\n",
            "too low\n",
            "Enter number5\n",
            "too low\n",
            "Enter number6\n",
            "too low\n",
            "Enter number7\n",
            "too low\n",
            "Enter number8\n",
            "too low\n",
            "Enter number9\n",
            "exactly right\n"
          ],
          "name": "stdout"
        }
      ]
    },
    {
      "metadata": {
        "id": "4Lqk9Om4J51S",
        "colab_type": "text"
      },
      "cell_type": "markdown",
      "source": [
        "Question 10 : Write a program that returns a list that contains only the elements that are common between the lists (without duplicates). Make sure your program works on two lists of different sizes. \n",
        "\n",
        "---\n",
        "\n"
      ]
    },
    {
      "metadata": {
        "id": "iCNlQ_rCJ7Lr",
        "colab_type": "code",
        "colab": {
          "base_uri": "https://localhost:8080/",
          "height": 34
        },
        "outputId": "60dc776b-e5ea-4d64-a19c-31a4170c913e"
      },
      "cell_type": "code",
      "source": [
        "a = [1, 2, 3, 5, 8, 13, 21, 34, 55, 89]\n",
        "b = [1, 2, 3, 4, 5, 6, 7, 8, 9, 10, 11, 12, 13]\n",
        "c= [i for i in a if i in b]\n",
        "print(c)\n",
        " \n"
      ],
      "execution_count": 21,
      "outputs": [
        {
          "output_type": "stream",
          "text": [
            "[1, 2, 3, 5, 8, 13]\n"
          ],
          "name": "stdout"
        }
      ]
    }
  ]
}